{
 "cells": [
  {
   "cell_type": "code",
   "execution_count": 7,
   "id": "78672279-b9f6-47da-ad6b-f7a267b2fdd1",
   "metadata": {},
   "outputs": [
    {
     "name": "stdout",
     "output_type": "stream",
     "text": [
      "Requirement already satisfied: numpy==1.26.4 in c:\\users\\abina\\appdata\\local\\programs\\python\\python39\\lib\\site-packages (1.26.4)\n"
     ]
    }
   ],
   "source": [
    "!pip install numpy==1.26.4\n"
   ]
  },
  {
   "cell_type": "code",
   "execution_count": 1,
   "id": "a216d2dc-70f1-421c-8f72-77a05dac241b",
   "metadata": {},
   "outputs": [],
   "source": [
    "import tensorflow as tf\n",
    "import numpy as np\n",
    "import cv2\n",
    "import os\n",
    "import time\n"
   ]
  },
  {
   "cell_type": "code",
   "execution_count": 2,
   "id": "0410cf84-800f-4b88-992a-5deffb5fc46f",
   "metadata": {},
   "outputs": [
    {
     "name": "stderr",
     "output_type": "stream",
     "text": [
      "WARNING:absl:Importing a function (__inference_EfficientDet-D1_layer_call_and_return_conditional_losses_131409) with ops with unsaved custom gradients. Will likely fail if a gradient is requested.\n",
      "WARNING:absl:Importing a function (__inference_EfficientDet-D1_layer_call_and_return_conditional_losses_118466) with ops with unsaved custom gradients. Will likely fail if a gradient is requested.\n",
      "WARNING:absl:Importing a function (__inference_EfficientDet-D1_layer_call_and_return_conditional_losses_126556) with ops with unsaved custom gradients. Will likely fail if a gradient is requested.\n",
      "WARNING:absl:Importing a function (__inference_EfficientDet-D1_layer_call_and_return_conditional_losses_113613) with ops with unsaved custom gradients. Will likely fail if a gradient is requested.\n",
      "WARNING:absl:Importing a function (__inference_bifpn_layer_call_and_return_conditional_losses_84699) with ops with unsaved custom gradients. Will likely fail if a gradient is requested.\n",
      "WARNING:absl:Importing a function (__inference_bifpn_layer_call_and_return_conditional_losses_82595) with ops with unsaved custom gradients. Will likely fail if a gradient is requested.\n",
      "WARNING:absl:Importing a function (__inference_call_func_23123) with ops with unsaved custom gradients. Will likely fail if a gradient is requested.\n",
      "WARNING:absl:Importing a function (__inference_call_func_105813) with ops with unsaved custom gradients. Will likely fail if a gradient is requested.\n"
     ]
    }
   ],
   "source": [
    "import tensorflow as tf\n",
    "model_dir = r\"C:\\Users\\Abina\\chattojournal\\src\\TrafficSignDetection\\saved_models\\efficientdet_d1_coco17_tpu-32\\saved_model\"\n",
    "detect_fn = tf.saved_model.load(model_dir)"
   ]
  },
  {
   "cell_type": "code",
   "execution_count": 3,
   "id": "9806cfc5-73d2-4a6b-aac1-4687ddc67ff7",
   "metadata": {},
   "outputs": [],
   "source": [
    "import tensorflow as tf\n",
    "classifier_model_path = r\"C:\\Users\\Abina\\Downloads\\Traffic-Sign-Classification-master\\Traffic-Sign-Classification-master\\my_model.h5\"\n",
    "classifier = tf.keras.models.load_model(classifier_model_path)"
   ]
  },
  {
   "cell_type": "code",
   "execution_count": 11,
   "id": "0833b8c4-ffe6-4156-b5e9-556cfbd1af24",
   "metadata": {},
   "outputs": [],
   "source": [
    "classifier_classes=[\n",
    "    'Speed limit (20km/h)', 'Speed limit (30km/h)', 'Speed limit (50km/h)',\n",
    "    'Speed limit (60km/h)', 'Speed limit (70km/h)', 'Speed limit (10km/h)',\n",
    "    'End of speed limit (80km/h)', 'Speed limit (100km/h)', 'Speed limit (120km/h)',\n",
    "    'No passing', 'No passing for vehicles over 3.5 metric tons',\n",
    "    'Right-of-way at the next intersection', 'Priority road', 'Yield', 'Stop',\n",
    "    'No vehicles', 'Vehicles over 3.5 metric tons prohibited', 'No entry',\n",
    "    'General caution', 'Dangerous curve to the left', 'Dangerous curve to the right',\n",
    "    'Double curve', 'Bumpy Road', 'Slippery road', 'Road narrows on the right',\n",
    "    'Road work', 'Traffic signals', 'Pedestrians', 'Children crossing', 'Bicycles crossing',\n",
    "    'Beware of ice/snow', 'Wild animals crossing', 'End of all speed and passing limits',\n",
    "    'Turn right ahead', 'Turn left ahead', 'Ahead only', 'Go straight or right',\n",
    "    'Go straight or left', 'Keep right', 'Keep left', 'Roundabout mandatory',\n",
    "    'End of no passing', 'End of no passing by vehicles over 3.5 metric tons'\n",
    "]"
   ]
  },
  {
   "cell_type": "code",
   "execution_count": 12,
   "id": "9b3100c7-9994-4ca8-97e6-ada7b4b670d4",
   "metadata": {},
   "outputs": [],
   "source": [
    "detection_score_threshold = 0.4\n",
    "classification_score_threshold = 0.3"
   ]
  },
  {
   "cell_type": "code",
   "execution_count": 13,
   "id": "517efbb9-2700-4041-8283-4a460549d525",
   "metadata": {},
   "outputs": [
    {
     "ename": "FileExistsError",
     "evalue": "[WinError 183] Cannot create a file when that file already exists: 'C:\\\\Users\\\\Abina\\\\OneDrive\\\\Desktop\\\\roadtrafficsignrecognition\\\\output\\\\sivaraman\\\\video\\\\fullvideo.mp4'",
     "output_type": "error",
     "traceback": [
      "\u001b[1;31m---------------------------------------------------------------------------\u001b[0m",
      "\u001b[1;31mFileExistsError\u001b[0m                           Traceback (most recent call last)",
      "Cell \u001b[1;32mIn[13], line 4\u001b[0m\n\u001b[0;32m      2\u001b[0m input_folder \u001b[38;5;241m=\u001b[39m \u001b[38;5;124mr\u001b[39m\u001b[38;5;124m\"\u001b[39m\u001b[38;5;124mC:\u001b[39m\u001b[38;5;124m\\\u001b[39m\u001b[38;5;124mUsers\u001b[39m\u001b[38;5;124m\\\u001b[39m\u001b[38;5;124mAbina\u001b[39m\u001b[38;5;124m\\\u001b[39m\u001b[38;5;124mOneDrive\u001b[39m\u001b[38;5;124m\\\u001b[39m\u001b[38;5;124mDesktop\u001b[39m\u001b[38;5;124m\\\u001b[39m\u001b[38;5;124mroadtrafficsignrecognition\u001b[39m\u001b[38;5;124m\\\u001b[39m\u001b[38;5;124mframes\u001b[39m\u001b[38;5;124m\\\u001b[39m\u001b[38;5;124msivaraman\u001b[39m\u001b[38;5;124m\"\u001b[39m\n\u001b[0;32m      3\u001b[0m output_folder \u001b[38;5;241m=\u001b[39m \u001b[38;5;124mr\u001b[39m\u001b[38;5;124m\"\u001b[39m\u001b[38;5;124mC:\u001b[39m\u001b[38;5;124m\\\u001b[39m\u001b[38;5;124mUsers\u001b[39m\u001b[38;5;124m\\\u001b[39m\u001b[38;5;124mAbina\u001b[39m\u001b[38;5;124m\\\u001b[39m\u001b[38;5;124mOneDrive\u001b[39m\u001b[38;5;124m\\\u001b[39m\u001b[38;5;124mDesktop\u001b[39m\u001b[38;5;124m\\\u001b[39m\u001b[38;5;124mroadtrafficsignrecognition\u001b[39m\u001b[38;5;124m\\\u001b[39m\u001b[38;5;124moutput\u001b[39m\u001b[38;5;124m\\\u001b[39m\u001b[38;5;124msivaraman\u001b[39m\u001b[38;5;124m\\\u001b[39m\u001b[38;5;124mvideo\u001b[39m\u001b[38;5;124m\\\u001b[39m\u001b[38;5;124mfullvideo.mp4\u001b[39m\u001b[38;5;124m\"\u001b[39m\n\u001b[1;32m----> 4\u001b[0m \u001b[43mos\u001b[49m\u001b[38;5;241;43m.\u001b[39;49m\u001b[43mmakedirs\u001b[49m\u001b[43m(\u001b[49m\u001b[43moutput_folder\u001b[49m\u001b[43m,\u001b[49m\u001b[43m \u001b[49m\u001b[43mexist_ok\u001b[49m\u001b[38;5;241;43m=\u001b[39;49m\u001b[38;5;28;43;01mTrue\u001b[39;49;00m\u001b[43m)\u001b[49m\n",
      "File \u001b[1;32mc:\\users\\abina\\appdata\\local\\programs\\python\\python39\\lib\\os.py:225\u001b[0m, in \u001b[0;36mmakedirs\u001b[1;34m(name, mode, exist_ok)\u001b[0m\n\u001b[0;32m    223\u001b[0m         \u001b[38;5;28;01mreturn\u001b[39;00m\n\u001b[0;32m    224\u001b[0m \u001b[38;5;28;01mtry\u001b[39;00m:\n\u001b[1;32m--> 225\u001b[0m     \u001b[43mmkdir\u001b[49m\u001b[43m(\u001b[49m\u001b[43mname\u001b[49m\u001b[43m,\u001b[49m\u001b[43m \u001b[49m\u001b[43mmode\u001b[49m\u001b[43m)\u001b[49m\n\u001b[0;32m    226\u001b[0m \u001b[38;5;28;01mexcept\u001b[39;00m \u001b[38;5;167;01mOSError\u001b[39;00m:\n\u001b[0;32m    227\u001b[0m     \u001b[38;5;66;03m# Cannot rely on checking for EEXIST, since the operating system\u001b[39;00m\n\u001b[0;32m    228\u001b[0m     \u001b[38;5;66;03m# could give priority to other errors like EACCES or EROFS\u001b[39;00m\n\u001b[0;32m    229\u001b[0m     \u001b[38;5;28;01mif\u001b[39;00m \u001b[38;5;129;01mnot\u001b[39;00m exist_ok \u001b[38;5;129;01mor\u001b[39;00m \u001b[38;5;129;01mnot\u001b[39;00m path\u001b[38;5;241m.\u001b[39misdir(name):\n",
      "\u001b[1;31mFileExistsError\u001b[0m: [WinError 183] Cannot create a file when that file already exists: 'C:\\\\Users\\\\Abina\\\\OneDrive\\\\Desktop\\\\roadtrafficsignrecognition\\\\output\\\\sivaraman\\\\video\\\\fullvideo.mp4'"
     ]
    }
   ],
   "source": [
    "import os\n",
    "input_folder = r\"C:\\Users\\Abina\\OneDrive\\Desktop\\roadtrafficsignrecognition\\frames\\sivaraman\"\n",
    "output_folder = r\"C:\\Users\\Abina\\OneDrive\\Desktop\\roadtrafficsignrecognition\\output\\sivaraman\\video\\fullvideo.mp4\"\n",
    "os.makedirs(output_folder, exist_ok=True)\n"
   ]
  },
  {
   "cell_type": "code",
   "execution_count": null,
   "id": "5091f4d4-7af1-4ff9-a18a-424bb33f0e0e",
   "metadata": {},
   "outputs": [],
   "source": [
    "def preprocess_for_classifier(cropped_img):\n",
    "    # Convert to grayscale if the model expects 1 channel\n",
    "    gray = cv2.cvtColor(cropped_img, cv2.COLOR_BGR2GRAY)\n",
    "    \n",
    "    # Resize to 32x32\n",
    "    img_resized = cv2.resize(gray, (32, 32))\n",
    "    \n",
    "    # Normalize\n",
    "    img_normalized = img_resized / 255.0\n",
    "    \n",
    "    # Expand dimensions to match (batch_size, height, width, channels=1)\n",
    "    return np.expand_dims(img_normalized[..., np.newaxis], axis=0)\n"
   ]
  },
  {
   "cell_type": "code",
   "execution_count": null,
   "id": "37540ca7-eae6-41af-9ead-88aa186a6832",
   "metadata": {},
   "outputs": [],
   "source": [
    "def run_inference_on_image(image):\n",
    "    image_np_rgb = cv2.cvtColor(image, cv2.COLOR_BGR2RGB)  #convert to RGB\n",
    "    input_tensor = tf.convert_to_tensor(image_np_rgb)   #convert to tensor\n",
    "    input_tensor = input_tensor[tf.newaxis, ...]\n",
    "    detections = detect_fn(input_tensor)  #then detect\n",
    "    return detections  #returns the array for detections"
   ]
  },
  {
   "cell_type": "code",
   "execution_count": null,
   "id": "e7ebf521-5b48-419b-8c84-48114f255038",
   "metadata": {},
   "outputs": [],
   "source": [
    "import cv2\n",
    "import time\n",
    "import os\n",
    "\n",
    "# Video writer settings\n",
    "output_video_path = r\"C:\\Users\\Abina\\OneDrive\\Desktop\\roadtrafficsignrecognition\\output\\sivaraman\\video\"\n",
    "\n",
    "# Get size from first frame for video writer (assuming all frames same size)\n",
    "first_image_path = os.path.join(input_folder, os.listdir(input_folder)[0])\n",
    "first_image = cv2.imread(first_image_path)\n",
    "if first_image is None:\n",
    "    raise RuntimeError(\"Could not read the first image for video size setup\")\n",
    "\n",
    "height, width, _ = first_image.shape\n",
    "\n",
    "# Define codec and create VideoWriter object\n",
    "fourcc = cv2.VideoWriter_fourcc(*'mp4v')  # or use 'XVID', 'MJPG', etc.\n",
    "fps = 10  # set frame rate as you like\n",
    "video_writer = cv2.VideoWriter(output_video_path, fourcc, fps, (width, height))\n",
    "\n",
    "total_start_time = time.time()\n",
    "frame_count = 0\n",
    "\n",
    "for img_name in os.listdir(input_folder):\n",
    "    frame_start_time = time.time()\n",
    "\n",
    "    img_path = os.path.join(input_folder, img_name)\n",
    "    image = cv2.imread(img_path)\n",
    "    if image is None:\n",
    "        print(f\"Warning: Could not read {img_name}\")\n",
    "        continue\n",
    "\n",
    "    height, width, _ = image.shape\n",
    "    detections = run_inference_on_image(image)\n",
    "\n",
    "    boxes = detections['detection_boxes'].numpy()[0]\n",
    "    scores = detections['detection_scores'].numpy()[0]\n",
    "\n",
    "    for box, score in zip(boxes, scores):\n",
    "        if score < detection_score_threshold:\n",
    "            continue\n",
    "\n",
    "        ymin, xmin, ymax, xmax = box\n",
    "        left = int(xmin * width)\n",
    "        right = int(xmax * width)\n",
    "        top = int(ymin * height)\n",
    "        bottom = int(ymax * height)\n",
    "\n",
    "        cropped_img = image[top:bottom, left:right]\n",
    "        if cropped_img.size == 0:\n",
    "            continue\n",
    "\n",
    "        input_for_cls = preprocess_for_classifier(cropped_img)\n",
    "        preds = classifier.predict(input_for_cls)\n",
    "        class_id = np.argmax(preds)\n",
    "        cls_score = preds[0][class_id]\n",
    "\n",
    "        if cls_score < classification_score_threshold:\n",
    "            label_text = \"Unknown\"\n",
    "        else:\n",
    "            label_text = f\"{classifier_classes[class_id]} ({cls_score:.2f})\"\n",
    "\n",
    "        cv2.rectangle(image, (left, top), (right, bottom), (0, 255, 0), 2)\n",
    "        cv2.putText(image, label_text, (left, top - 10),\n",
    "                    cv2.FONT_HERSHEY_SIMPLEX, 0.5, (0, 0, 255), 2)\n",
    "\n",
    "    save_path = os.path.join(output_folder, img_name)\n",
    "    cv2.imwrite(save_path, image)\n",
    "\n",
    "    # Write frame to video\n",
    "    video_writer.write(image)\n",
    "\n",
    "    print(f\"Processed and saved: {save_path}\")\n",
    "    frame_end_time = time.time()\n",
    "    frame_duration = frame_end_time - frame_start_time\n",
    "    print(f\"Processed {img_name} in {frame_duration:.3f} seconds\")\n",
    "    frame_count += 1\n",
    "\n",
    "# Release the video writer after all frames are processed\n",
    "video_writer.release()\n",
    "\n",
    "total_end_time = time.time()\n",
    "total_duration = total_end_time - total_start_time\n",
    "print(f\"Processed {frame_count} frames in {total_duration:.3f} seconds\")\n",
    "print(f\"Average time per frame: {total_duration/frame_count:.3f} seconds\")\n",
    "print(f\"Video saved at: {output_video_path}\")\n"
   ]
  },
  {
   "cell_type": "code",
   "execution_count": null,
   "id": "0313f644-4466-4070-8976-2d6808b0399c",
   "metadata": {},
   "outputs": [],
   "source": []
  },
  {
   "cell_type": "code",
   "execution_count": null,
   "id": "2e58960d-85ce-438e-9d65-a8b4e0f8da7e",
   "metadata": {},
   "outputs": [],
   "source": []
  }
 ],
 "metadata": {
  "kernelspec": {
   "display_name": "Python 3 (ipykernel)",
   "language": "python",
   "name": "python3"
  },
  "language_info": {
   "codemirror_mode": {
    "name": "ipython",
    "version": 3
   },
   "file_extension": ".py",
   "mimetype": "text/x-python",
   "name": "python",
   "nbconvert_exporter": "python",
   "pygments_lexer": "ipython3",
   "version": "3.9.0"
  }
 },
 "nbformat": 4,
 "nbformat_minor": 5
}
