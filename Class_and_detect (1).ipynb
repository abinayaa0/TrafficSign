{
 "cells": [
  {
   "cell_type": "code",
   "execution_count": 1,
   "id": "78672279-b9f6-47da-ad6b-f7a267b2fdd1",
   "metadata": {},
   "outputs": [
    {
     "name": "stdout",
     "output_type": "stream",
     "text": [
      "Defaulting to user installation because normal site-packages is not writeable\n",
      "Requirement already satisfied: numpy==1.26.4 in c:\\users\\abinaya\\appdata\\roaming\\python\\python310\\site-packages (1.26.4)\n"
     ]
    },
    {
     "name": "stderr",
     "output_type": "stream",
     "text": [
      "WARNING: Ignoring invalid distribution -ensorflow (c:\\users\\abinaya\\appdata\\roaming\\python\\python310\\site-packages)\n",
      "WARNING: Ignoring invalid distribution -ensorflow (c:\\users\\abinaya\\appdata\\roaming\\python\\python310\\site-packages)\n",
      "WARNING: Ignoring invalid distribution -ensorflow (c:\\users\\abinaya\\appdata\\roaming\\python\\python310\\site-packages)\n",
      "WARNING: Ignoring invalid distribution -ensorflow (c:\\users\\abinaya\\appdata\\roaming\\python\\python310\\site-packages)\n"
     ]
    }
   ],
   "source": [
    "!pip install numpy==1.26.4\n"
   ]
  },
  {
   "cell_type": "code",
   "execution_count": 2,
   "id": "a579829c-2a01-45e4-807e-5a31d1c75c79",
   "metadata": {},
   "outputs": [
    {
     "name": "stdout",
     "output_type": "stream",
     "text": [
      "Defaulting to user installation because normal site-packages is not writeable\n",
      "Requirement already satisfied: ipykernel in c:\\users\\abinaya\\appdata\\roaming\\python\\python310\\site-packages (6.29.5)\n",
      "Requirement already satisfied: comm>=0.1.1 in c:\\users\\abinaya\\appdata\\roaming\\python\\python310\\site-packages (from ipykernel) (0.2.2)\n",
      "Requirement already satisfied: debugpy>=1.6.5 in c:\\users\\abinaya\\appdata\\roaming\\python\\python310\\site-packages (from ipykernel) (1.8.14)\n",
      "Requirement already satisfied: ipython>=7.23.1 in c:\\users\\abinaya\\appdata\\roaming\\python\\python310\\site-packages (from ipykernel) (8.37.0)\n",
      "Requirement already satisfied: jupyter-client>=6.1.12 in c:\\users\\abinaya\\appdata\\roaming\\python\\python310\\site-packages (from ipykernel) (8.6.3)\n",
      "Requirement already satisfied: jupyter-core!=5.0.*,>=4.12 in c:\\users\\abinaya\\appdata\\roaming\\python\\python310\\site-packages (from ipykernel) (5.8.1)\n",
      "Requirement already satisfied: matplotlib-inline>=0.1 in c:\\users\\abinaya\\appdata\\roaming\\python\\python310\\site-packages (from ipykernel) (0.1.7)\n",
      "Requirement already satisfied: nest-asyncio in c:\\users\\abinaya\\appdata\\roaming\\python\\python310\\site-packages (from ipykernel) (1.6.0)\n",
      "Requirement already satisfied: packaging in c:\\users\\abinaya\\appdata\\roaming\\python\\python310\\site-packages (from ipykernel) (24.2)\n",
      "Requirement already satisfied: psutil in c:\\users\\abinaya\\appdata\\roaming\\python\\python310\\site-packages (from ipykernel) (7.0.0)\n",
      "Requirement already satisfied: pyzmq>=24 in c:\\users\\abinaya\\appdata\\roaming\\python\\python310\\site-packages (from ipykernel) (26.4.0)\n",
      "Requirement already satisfied: tornado>=6.1 in c:\\users\\abinaya\\appdata\\roaming\\python\\python310\\site-packages (from ipykernel) (6.5.1)\n",
      "Requirement already satisfied: traitlets>=5.4.0 in c:\\users\\abinaya\\appdata\\roaming\\python\\python310\\site-packages (from ipykernel) (5.14.3)\n",
      "Requirement already satisfied: colorama in c:\\users\\abinaya\\appdata\\roaming\\python\\python310\\site-packages (from ipython>=7.23.1->ipykernel) (0.4.6)\n",
      "Requirement already satisfied: decorator in c:\\users\\abinaya\\appdata\\roaming\\python\\python310\\site-packages (from ipython>=7.23.1->ipykernel) (5.2.1)\n",
      "Requirement already satisfied: exceptiongroup in c:\\users\\abinaya\\appdata\\roaming\\python\\python310\\site-packages (from ipython>=7.23.1->ipykernel) (1.3.0)\n",
      "Requirement already satisfied: jedi>=0.16 in c:\\users\\abinaya\\appdata\\roaming\\python\\python310\\site-packages (from ipython>=7.23.1->ipykernel) (0.19.2)\n",
      "Requirement already satisfied: prompt_toolkit<3.1.0,>=3.0.41 in c:\\users\\abinaya\\appdata\\roaming\\python\\python310\\site-packages (from ipython>=7.23.1->ipykernel) (3.0.51)\n",
      "Requirement already satisfied: pygments>=2.4.0 in c:\\users\\abinaya\\appdata\\roaming\\python\\python310\\site-packages (from ipython>=7.23.1->ipykernel) (2.19.1)\n",
      "Requirement already satisfied: stack_data in c:\\users\\abinaya\\appdata\\roaming\\python\\python310\\site-packages (from ipython>=7.23.1->ipykernel) (0.6.3)\n",
      "Requirement already satisfied: typing_extensions>=4.6 in c:\\users\\abinaya\\appdata\\roaming\\python\\python310\\site-packages (from ipython>=7.23.1->ipykernel) (4.14.0)\n",
      "Requirement already satisfied: wcwidth in c:\\users\\abinaya\\appdata\\roaming\\python\\python310\\site-packages (from prompt_toolkit<3.1.0,>=3.0.41->ipython>=7.23.1->ipykernel) (0.2.13)\n",
      "Requirement already satisfied: parso<0.9.0,>=0.8.4 in c:\\users\\abinaya\\appdata\\roaming\\python\\python310\\site-packages (from jedi>=0.16->ipython>=7.23.1->ipykernel) (0.8.4)\n",
      "Requirement already satisfied: python-dateutil>=2.8.2 in c:\\users\\abinaya\\appdata\\roaming\\python\\python310\\site-packages (from jupyter-client>=6.1.12->ipykernel) (2.9.0.post0)\n",
      "Requirement already satisfied: platformdirs>=2.5 in c:\\users\\abinaya\\appdata\\roaming\\python\\python310\\site-packages (from jupyter-core!=5.0.*,>=4.12->ipykernel) (4.3.8)\n",
      "Requirement already satisfied: pywin32>=300 in c:\\users\\abinaya\\appdata\\roaming\\python\\python310\\site-packages (from jupyter-core!=5.0.*,>=4.12->ipykernel) (310)\n",
      "Requirement already satisfied: six>=1.5 in c:\\users\\abinaya\\appdata\\roaming\\python\\python310\\site-packages (from python-dateutil>=2.8.2->jupyter-client>=6.1.12->ipykernel) (1.17.0)\n",
      "Requirement already satisfied: executing>=1.2.0 in c:\\users\\abinaya\\appdata\\roaming\\python\\python310\\site-packages (from stack_data->ipython>=7.23.1->ipykernel) (2.2.0)\n",
      "Requirement already satisfied: asttokens>=2.1.0 in c:\\users\\abinaya\\appdata\\roaming\\python\\python310\\site-packages (from stack_data->ipython>=7.23.1->ipykernel) (3.0.0)\n",
      "Requirement already satisfied: pure-eval in c:\\users\\abinaya\\appdata\\roaming\\python\\python310\\site-packages (from stack_data->ipython>=7.23.1->ipykernel) (0.2.3)\n"
     ]
    },
    {
     "name": "stderr",
     "output_type": "stream",
     "text": [
      "WARNING: Ignoring invalid distribution -ensorflow (c:\\users\\abinaya\\appdata\\roaming\\python\\python310\\site-packages)\n",
      "WARNING: Ignoring invalid distribution -ensorflow (c:\\users\\abinaya\\appdata\\roaming\\python\\python310\\site-packages)\n",
      "WARNING: Ignoring invalid distribution -ensorflow (c:\\users\\abinaya\\appdata\\roaming\\python\\python310\\site-packages)\n",
      "WARNING: Ignoring invalid distribution -ensorflow (c:\\users\\abinaya\\appdata\\roaming\\python\\python310\\site-packages)\n"
     ]
    },
    {
     "name": "stdout",
     "output_type": "stream",
     "text": [
      "Installed kernelspec py310 in C:\\Users\\Abinaya\\AppData\\Roaming\\jupyter\\kernels\\py310\n"
     ]
    }
   ],
   "source": [
    "! \"C:\\Program Files\\Python310\\python.exe\" -m pip install ipykernel\n",
    "! \"C:\\Program Files\\Python310\\python.exe\" -m ipykernel install --user --name py310 --display-name \"Python 3.10 (TensorFlow)\"\n"
   ]
  },
  {
   "cell_type": "code",
   "execution_count": 3,
   "id": "d2a7659b-341f-4a54-ba35-676df856eddd",
   "metadata": {},
   "outputs": [
    {
     "name": "stdout",
     "output_type": "stream",
     "text": [
      "Defaulting to user installation because normal site-packages is not writeable\n",
      "Requirement already satisfied: tensorflow==2.10.1 in c:\\users\\abinaya\\appdata\\roaming\\python\\python310\\site-packages (2.10.1)\n",
      "Requirement already satisfied: absl-py>=1.0.0 in c:\\users\\abinaya\\appdata\\roaming\\python\\python310\\site-packages (from tensorflow==2.10.1) (2.3.0)\n",
      "Requirement already satisfied: astunparse>=1.6.0 in c:\\users\\abinaya\\appdata\\roaming\\python\\python310\\site-packages (from tensorflow==2.10.1) (1.6.3)\n",
      "Requirement already satisfied: flatbuffers>=2.0 in c:\\users\\abinaya\\appdata\\roaming\\python\\python310\\site-packages (from tensorflow==2.10.1) (25.2.10)\n",
      "Requirement already satisfied: gast<=0.4.0,>=0.2.1 in c:\\users\\abinaya\\appdata\\roaming\\python\\python310\\site-packages (from tensorflow==2.10.1) (0.4.0)\n",
      "Requirement already satisfied: google-pasta>=0.1.1 in c:\\users\\abinaya\\appdata\\roaming\\python\\python310\\site-packages (from tensorflow==2.10.1) (0.2.0)\n",
      "Requirement already satisfied: h5py>=2.9.0 in c:\\users\\abinaya\\appdata\\roaming\\python\\python310\\site-packages (from tensorflow==2.10.1) (3.14.0)\n",
      "Requirement already satisfied: keras-preprocessing>=1.1.1 in c:\\users\\abinaya\\appdata\\roaming\\python\\python310\\site-packages (from tensorflow==2.10.1) (1.1.2)\n",
      "Requirement already satisfied: libclang>=13.0.0 in c:\\users\\abinaya\\appdata\\roaming\\python\\python310\\site-packages (from tensorflow==2.10.1) (18.1.1)\n",
      "Requirement already satisfied: numpy>=1.20 in c:\\users\\abinaya\\appdata\\roaming\\python\\python310\\site-packages (from tensorflow==2.10.1) (1.26.4)\n",
      "Requirement already satisfied: opt-einsum>=2.3.2 in c:\\users\\abinaya\\appdata\\roaming\\python\\python310\\site-packages (from tensorflow==2.10.1) (3.4.0)\n",
      "Requirement already satisfied: packaging in c:\\users\\abinaya\\appdata\\roaming\\python\\python310\\site-packages (from tensorflow==2.10.1) (24.2)\n",
      "Requirement already satisfied: protobuf<3.20,>=3.9.2 in c:\\users\\abinaya\\appdata\\roaming\\python\\python310\\site-packages (from tensorflow==2.10.1) (3.19.6)\n",
      "Requirement already satisfied: setuptools in c:\\program files\\python310\\lib\\site-packages (from tensorflow==2.10.1) (65.5.0)\n",
      "Requirement already satisfied: six>=1.12.0 in c:\\users\\abinaya\\appdata\\roaming\\python\\python310\\site-packages (from tensorflow==2.10.1) (1.17.0)\n",
      "Requirement already satisfied: termcolor>=1.1.0 in c:\\users\\abinaya\\appdata\\roaming\\python\\python310\\site-packages (from tensorflow==2.10.1) (3.1.0)\n",
      "Requirement already satisfied: typing-extensions>=3.6.6 in c:\\users\\abinaya\\appdata\\roaming\\python\\python310\\site-packages (from tensorflow==2.10.1) (4.14.0)\n",
      "Requirement already satisfied: wrapt>=1.11.0 in c:\\users\\abinaya\\appdata\\roaming\\python\\python310\\site-packages (from tensorflow==2.10.1) (1.17.2)\n",
      "Requirement already satisfied: tensorflow-io-gcs-filesystem>=0.23.1 in c:\\users\\abinaya\\appdata\\roaming\\python\\python310\\site-packages (from tensorflow==2.10.1) (0.31.0)\n",
      "Requirement already satisfied: grpcio<2.0,>=1.24.3 in c:\\users\\abinaya\\appdata\\roaming\\python\\python310\\site-packages (from tensorflow==2.10.1) (1.72.1)\n",
      "Requirement already satisfied: tensorboard<2.11,>=2.10 in c:\\users\\abinaya\\appdata\\roaming\\python\\python310\\site-packages (from tensorflow==2.10.1) (2.10.1)\n",
      "Requirement already satisfied: tensorflow-estimator<2.11,>=2.10.0 in c:\\users\\abinaya\\appdata\\roaming\\python\\python310\\site-packages (from tensorflow==2.10.1) (2.10.0)\n",
      "Requirement already satisfied: keras<2.11,>=2.10.0 in c:\\users\\abinaya\\appdata\\roaming\\python\\python310\\site-packages (from tensorflow==2.10.1) (2.10.0)\n",
      "Requirement already satisfied: google-auth<3,>=1.6.3 in c:\\users\\abinaya\\appdata\\roaming\\python\\python310\\site-packages (from tensorboard<2.11,>=2.10->tensorflow==2.10.1) (2.40.3)\n",
      "Requirement already satisfied: google-auth-oauthlib<0.5,>=0.4.1 in c:\\users\\abinaya\\appdata\\roaming\\python\\python310\\site-packages (from tensorboard<2.11,>=2.10->tensorflow==2.10.1) (0.4.6)\n",
      "Requirement already satisfied: markdown>=2.6.8 in c:\\users\\abinaya\\appdata\\roaming\\python\\python310\\site-packages (from tensorboard<2.11,>=2.10->tensorflow==2.10.1) (3.8)\n",
      "Requirement already satisfied: requests<3,>=2.21.0 in c:\\users\\abinaya\\appdata\\roaming\\python\\python310\\site-packages (from tensorboard<2.11,>=2.10->tensorflow==2.10.1) (2.32.3)\n",
      "Requirement already satisfied: tensorboard-data-server<0.7.0,>=0.6.0 in c:\\users\\abinaya\\appdata\\roaming\\python\\python310\\site-packages (from tensorboard<2.11,>=2.10->tensorflow==2.10.1) (0.6.1)\n",
      "Requirement already satisfied: tensorboard-plugin-wit>=1.6.0 in c:\\users\\abinaya\\appdata\\roaming\\python\\python310\\site-packages (from tensorboard<2.11,>=2.10->tensorflow==2.10.1) (1.8.1)\n",
      "Requirement already satisfied: werkzeug>=1.0.1 in c:\\users\\abinaya\\appdata\\roaming\\python\\python310\\site-packages (from tensorboard<2.11,>=2.10->tensorflow==2.10.1) (3.1.3)\n",
      "Requirement already satisfied: wheel>=0.26 in c:\\users\\abinaya\\appdata\\roaming\\python\\python310\\site-packages (from tensorboard<2.11,>=2.10->tensorflow==2.10.1) (0.45.1)\n",
      "Requirement already satisfied: cachetools<6.0,>=2.0.0 in c:\\users\\abinaya\\appdata\\roaming\\python\\python310\\site-packages (from google-auth<3,>=1.6.3->tensorboard<2.11,>=2.10->tensorflow==2.10.1) (5.5.2)\n",
      "Requirement already satisfied: pyasn1-modules>=0.2.1 in c:\\users\\abinaya\\appdata\\roaming\\python\\python310\\site-packages (from google-auth<3,>=1.6.3->tensorboard<2.11,>=2.10->tensorflow==2.10.1) (0.4.2)\n",
      "Requirement already satisfied: rsa<5,>=3.1.4 in c:\\users\\abinaya\\appdata\\roaming\\python\\python310\\site-packages (from google-auth<3,>=1.6.3->tensorboard<2.11,>=2.10->tensorflow==2.10.1) (4.9.1)\n",
      "Requirement already satisfied: requests-oauthlib>=0.7.0 in c:\\users\\abinaya\\appdata\\roaming\\python\\python310\\site-packages (from google-auth-oauthlib<0.5,>=0.4.1->tensorboard<2.11,>=2.10->tensorflow==2.10.1) (2.0.0)\n",
      "Requirement already satisfied: charset-normalizer<4,>=2 in c:\\users\\abinaya\\appdata\\roaming\\python\\python310\\site-packages (from requests<3,>=2.21.0->tensorboard<2.11,>=2.10->tensorflow==2.10.1) (3.4.2)\n",
      "Requirement already satisfied: idna<4,>=2.5 in c:\\users\\abinaya\\appdata\\roaming\\python\\python310\\site-packages (from requests<3,>=2.21.0->tensorboard<2.11,>=2.10->tensorflow==2.10.1) (3.7)\n",
      "Requirement already satisfied: urllib3<3,>=1.21.1 in c:\\users\\abinaya\\appdata\\roaming\\python\\python310\\site-packages (from requests<3,>=2.21.0->tensorboard<2.11,>=2.10->tensorflow==2.10.1) (2.4.0)\n",
      "Requirement already satisfied: certifi>=2017.4.17 in c:\\users\\abinaya\\appdata\\roaming\\python\\python310\\site-packages (from requests<3,>=2.21.0->tensorboard<2.11,>=2.10->tensorflow==2.10.1) (2025.4.26)\n",
      "Requirement already satisfied: pyasn1>=0.1.3 in c:\\users\\abinaya\\appdata\\roaming\\python\\python310\\site-packages (from rsa<5,>=3.1.4->google-auth<3,>=1.6.3->tensorboard<2.11,>=2.10->tensorflow==2.10.1) (0.6.1)\n",
      "Requirement already satisfied: oauthlib>=3.0.0 in c:\\users\\abinaya\\appdata\\roaming\\python\\python310\\site-packages (from requests-oauthlib>=0.7.0->google-auth-oauthlib<0.5,>=0.4.1->tensorboard<2.11,>=2.10->tensorflow==2.10.1) (3.2.2)\n",
      "Requirement already satisfied: MarkupSafe>=2.1.1 in c:\\users\\abinaya\\appdata\\roaming\\python\\python310\\site-packages (from werkzeug>=1.0.1->tensorboard<2.11,>=2.10->tensorflow==2.10.1) (3.0.2)\n"
     ]
    },
    {
     "name": "stderr",
     "output_type": "stream",
     "text": [
      "WARNING: Ignoring invalid distribution -ensorflow (c:\\users\\abinaya\\appdata\\roaming\\python\\python310\\site-packages)\n",
      "WARNING: Ignoring invalid distribution -ensorflow (c:\\users\\abinaya\\appdata\\roaming\\python\\python310\\site-packages)\n",
      "WARNING: Ignoring invalid distribution -ensorflow (c:\\users\\abinaya\\appdata\\roaming\\python\\python310\\site-packages)\n",
      "WARNING: Ignoring invalid distribution -ensorflow (c:\\users\\abinaya\\appdata\\roaming\\python\\python310\\site-packages)\n"
     ]
    }
   ],
   "source": [
    "!pip install tensorflow==2.10.1"
   ]
  },
  {
   "cell_type": "code",
   "execution_count": 4,
   "id": "a216d2dc-70f1-421c-8f72-77a05dac241b",
   "metadata": {
    "scrolled": true
   },
   "outputs": [],
   "source": [
    "import tensorflow as tf\n",
    "import numpy as np\n",
    "import cv2\n",
    "import os\n",
    "import time\n"
   ]
  },
  {
   "cell_type": "code",
   "execution_count": 5,
   "id": "dc28cf08-7e47-4d19-bc3e-8eff03924c30",
   "metadata": {},
   "outputs": [
    {
     "name": "stdout",
     "output_type": "stream",
     "text": [
      "C:\\Program Files\\Python310\\Scripts\\pip.exe\n",
      "C:\\Users\\Abinaya\\AppData\\Local\\Programs\\Python\\Python36\\Scripts\\pip.exe\n",
      "C:\\Users\\Abinaya\\AppData\\Local\\Programs\\Python\\Python313\\Scripts\\pip.exe\n",
      "Name: tensorflow\n",
      "Version: 2.10.1\n",
      "Summary: TensorFlow is an open source machine learning framework for everyone.\n",
      "Home-page: https://www.tensorflow.org/\n",
      "Author: Google Inc.\n",
      "Author-email: packages@tensorflow.org\n",
      "License: Apache 2.0\n",
      "Location: c:\\users\\abinaya\\appdata\\roaming\\python\\python310\\site-packages\n",
      "Requires: absl-py, astunparse, flatbuffers, gast, google-pasta, grpcio, h5py, keras, keras-preprocessing, libclang, numpy, opt-einsum, packaging, protobuf, setuptools, six, tensorboard, tensorflow-estimator, tensorflow-io-gcs-filesystem, termcolor, typing-extensions, wrapt\n",
      "Required-by: \n"
     ]
    },
    {
     "name": "stderr",
     "output_type": "stream",
     "text": [
      "WARNING: Ignoring invalid distribution -ensorflow (c:\\users\\abinaya\\appdata\\roaming\\python\\python310\\site-packages)\n"
     ]
    }
   ],
   "source": [
    "!where pip\n",
    "!pip show tensorflow\n"
   ]
  },
  {
   "cell_type": "code",
   "execution_count": 6,
   "id": "f993afa3-9a24-4818-afa6-21521ff3d600",
   "metadata": {},
   "outputs": [
    {
     "name": "stdout",
     "output_type": "stream",
     "text": [
      "C:\\Program Files\\Python310\\python.exe\n"
     ]
    }
   ],
   "source": [
    "import sys\n",
    "print(sys.executable)\n"
   ]
  },
  {
   "cell_type": "code",
   "execution_count": 7,
   "id": "54db5dcc-45dc-44c9-8bc0-1fbe07e16c24",
   "metadata": {},
   "outputs": [
    {
     "name": "stderr",
     "output_type": "stream",
     "text": [
      "'C:\\Program' is not recognized as an internal or external command,\n",
      "operable program or batch file.\n"
     ]
    }
   ],
   "source": [
    "!{sys.executable} -m pip install tensorflow\n"
   ]
  },
  {
   "cell_type": "code",
   "execution_count": 8,
   "id": "0410cf84-800f-4b88-992a-5deffb5fc46f",
   "metadata": {},
   "outputs": [
    {
     "name": "stderr",
     "output_type": "stream",
     "text": [
      "WARNING:absl:Importing a function (__inference_EfficientDet-D1_layer_call_and_return_conditional_losses_131409) with ops with unsaved custom gradients. Will likely fail if a gradient is requested.\n",
      "WARNING:absl:Importing a function (__inference_EfficientDet-D1_layer_call_and_return_conditional_losses_118466) with ops with unsaved custom gradients. Will likely fail if a gradient is requested.\n",
      "WARNING:absl:Importing a function (__inference_EfficientDet-D1_layer_call_and_return_conditional_losses_126556) with ops with unsaved custom gradients. Will likely fail if a gradient is requested.\n",
      "WARNING:absl:Importing a function (__inference_EfficientDet-D1_layer_call_and_return_conditional_losses_113613) with ops with unsaved custom gradients. Will likely fail if a gradient is requested.\n",
      "WARNING:absl:Importing a function (__inference_bifpn_layer_call_and_return_conditional_losses_84699) with ops with unsaved custom gradients. Will likely fail if a gradient is requested.\n",
      "WARNING:absl:Importing a function (__inference_bifpn_layer_call_and_return_conditional_losses_82595) with ops with unsaved custom gradients. Will likely fail if a gradient is requested.\n",
      "WARNING:absl:Importing a function (__inference_call_func_23123) with ops with unsaved custom gradients. Will likely fail if a gradient is requested.\n",
      "WARNING:absl:Importing a function (__inference_call_func_105813) with ops with unsaved custom gradients. Will likely fail if a gradient is requested.\n"
     ]
    }
   ],
   "source": [
    "import tensorflow as tf\n",
    "model_dir = r\"C:\\Users\\Abinaya\\Downloads\\TrafficSignDetection-main\\TrafficSignDetection-main\\saved_models\\efficientdet_d1_coco17_tpu-32\\saved_model\"\n",
    "detect_fn = tf.saved_model.load(model_dir)"
   ]
  },
  {
   "cell_type": "code",
   "execution_count": 14,
   "id": "9806cfc5-73d2-4a6b-aac1-4687ddc67ff7",
   "metadata": {},
   "outputs": [],
   "source": [
    "import tensorflow as tf\n",
    "classifier_model_path = r\"C:\\Users\\Abinaya\\Downloads\\Traffic-Sign-Classification-master\\Traffic-Sign-Classification-master\\my_model.h5\"\n",
    "classifier = tf.keras.models.load_model(classifier_model_path)"
   ]
  },
  {
   "cell_type": "code",
   "execution_count": 15,
   "id": "c4b66184-b958-4021-b76d-c99a41fad177",
   "metadata": {},
   "outputs": [
    {
     "ename": "AttributeError",
     "evalue": "'_UserObject' object has no attribute 'summary'",
     "output_type": "error",
     "traceback": [
      "\u001b[1;31m---------------------------------------------------------------------------\u001b[0m",
      "\u001b[1;31mAttributeError\u001b[0m                            Traceback (most recent call last)",
      "Cell \u001b[1;32mIn[15], line 1\u001b[0m\n\u001b[1;32m----> 1\u001b[0m \u001b[43mdetect_fn\u001b[49m\u001b[38;5;241;43m.\u001b[39;49m\u001b[43msummary\u001b[49m()\n",
      "\u001b[1;31mAttributeError\u001b[0m: '_UserObject' object has no attribute 'summary'"
     ]
    }
   ],
   "source": [
    "detect_fn.summary()"
   ]
  },
  {
   "cell_type": "code",
   "execution_count": 17,
   "id": "9da9eb3c-33d9-40a5-a388-631a0799130a",
   "metadata": {},
   "outputs": [
    {
     "name": "stdout",
     "output_type": "stream",
     "text": [
      "Model: \"sequential_5\"\n",
      "_________________________________________________________________\n",
      " Layer (type)                Output Shape              Param #   \n",
      "=================================================================\n",
      " conv2d_17 (Conv2D)          (None, 28, 28, 60)        1560      \n",
      "                                                                 \n",
      " conv2d_18 (Conv2D)          (None, 24, 24, 60)        90060     \n",
      "                                                                 \n",
      " max_pooling2d_9 (MaxPooling  (None, 12, 12, 60)       0         \n",
      " 2D)                                                             \n",
      "                                                                 \n",
      " conv2d_19 (Conv2D)          (None, 10, 10, 30)        16230     \n",
      "                                                                 \n",
      " conv2d_20 (Conv2D)          (None, 8, 8, 30)          8130      \n",
      "                                                                 \n",
      " max_pooling2d_10 (MaxPoolin  (None, 4, 4, 30)         0         \n",
      " g2D)                                                            \n",
      "                                                                 \n",
      " flatten_5 (Flatten)         (None, 480)               0         \n",
      "                                                                 \n",
      " dense_9 (Dense)             (None, 500)               240500    \n",
      "                                                                 \n",
      " dropout_5 (Dropout)         (None, 500)               0         \n",
      "                                                                 \n",
      " dense_10 (Dense)            (None, 43)                21543     \n",
      "                                                                 \n",
      "=================================================================\n",
      "Total params: 378,023\n",
      "Trainable params: 378,023\n",
      "Non-trainable params: 0\n",
      "_________________________________________________________________\n"
     ]
    }
   ],
   "source": [
    "classifier.summary()"
   ]
  },
  {
   "cell_type": "code",
   "execution_count": 12,
   "id": "0833b8c4-ffe6-4156-b5e9-556cfbd1af24",
   "metadata": {},
   "outputs": [],
   "source": [
    "classifier_classes=[\n",
    "    'Speed limit (20km/h)', 'Speed limit (30km/h)', 'Speed limit (50km/h)',\n",
    "    'Speed limit (60km/h)', 'Speed limit (70km/h)', 'Speed limit (10km/h)',\n",
    "    'End of speed limit (80km/h)', 'Speed limit (100km/h)', 'Speed limit (120km/h)',\n",
    "    'No passing', 'No passing for vehicles over 3.5 metric tons',\n",
    "    'Right-of-way at the next intersection', 'Priority road', 'Yield', 'Stop',\n",
    "    'No vehicles', 'Vehicles over 3.5 metric tons prohibited', 'No entry',\n",
    "    'General caution', 'Dangerous curve to the left', 'Dangerous curve to the right',\n",
    "    'Double curve', 'Bumpy Road', 'Slippery road', 'Road narrows on the right',\n",
    "    'Road work', 'Traffic signals', 'Pedestrians', 'Children crossing', 'Bicycles crossing',\n",
    "    'Beware of ice/snow', 'Wild animals crossing', 'End of all speed and passing limits',\n",
    "    'Turn right ahead', 'Turn left ahead', 'Ahead only', 'Go straight or right',\n",
    "    'Go straight or left', 'Keep right', 'Keep left', 'Roundabout mandatory',\n",
    "    'End of no passing', 'End of no passing by vehicles over 3.5 metric tons'\n",
    "]"
   ]
  },
  {
   "cell_type": "code",
   "execution_count": null,
   "id": "ba01d156-5ca1-4a36-9970-b66e89b8f380",
   "metadata": {},
   "outputs": [],
   "source": []
  },
  {
   "cell_type": "code",
   "execution_count": null,
   "id": "cabc09b2-894f-4879-baae-95ce1495cc7e",
   "metadata": {},
   "outputs": [],
   "source": []
  },
  {
   "cell_type": "code",
   "execution_count": 24,
   "id": "9b3100c7-9994-4ca8-97e6-ada7b4b670d4",
   "metadata": {},
   "outputs": [],
   "source": [
    "detection_score_threshold = 0.2\n",
    "classification_score_threshold = 0.3"
   ]
  },
  {
   "cell_type": "code",
   "execution_count": 17,
   "id": "517efbb9-2700-4041-8283-4a460549d525",
   "metadata": {},
   "outputs": [],
   "source": [
    "input_video_path = r\"C:\\PROJECTS\\TrafficSignIdentification\\drivingdata\\outsidevideo2cropped.mp4\"\n",
    "output_video_path = r\"C:\\PROJECTS\\TrafficSignIdentification\\output\\output_outsidevideo2cropped(detectron+roboflow).mp4\"\n",
    "\n"
   ]
  },
  {
   "cell_type": "code",
   "execution_count": 18,
   "id": "5091f4d4-7af1-4ff9-a18a-424bb33f0e0e",
   "metadata": {},
   "outputs": [],
   "source": [
    "def preprocess_for_classifier(cropped_img):\n",
    "    gray = cv2.cvtColor(cropped_img, cv2.COLOR_BGR2GRAY)\n",
    "    img_resized = cv2.resize(gray, (32, 32))\n",
    "    img_normalized = img_resized / 255.0\n",
    "    return np.expand_dims(img_normalized[..., np.newaxis], axis=0)\n",
    "\n"
   ]
  },
  {
   "cell_type": "code",
   "execution_count": 19,
   "id": "ea7dd902-f4e9-4bd3-a8ea-f1b4d3b0f2de",
   "metadata": {},
   "outputs": [],
   "source": [
    "import os\n",
    "import cv2\n",
    "import time\n",
    "import numpy as np\n",
    "import tensorflow as tf\n"
   ]
  },
  {
   "cell_type": "code",
   "execution_count": 20,
   "id": "37540ca7-eae6-41af-9ead-88aa186a6832",
   "metadata": {},
   "outputs": [],
   "source": [
    "def run_inference_on_image(image):\n",
    "    image_np_rgb = cv2.cvtColor(image, cv2.COLOR_BGR2RGB)\n",
    "    input_tensor = tf.convert_to_tensor(image_np_rgb)\n",
    "    input_tensor = input_tensor[tf.newaxis, ...]\n",
    "    detections = detect_fn(input_tensor)\n",
    "    return detections\n"
   ]
  },
  {
   "cell_type": "code",
   "execution_count": 21,
   "id": "e7ebf521-5b48-419b-8c84-48114f255038",
   "metadata": {},
   "outputs": [
    {
     "name": "stdout",
     "output_type": "stream",
     "text": [
      "Processed frame 1 in 1.102 seconds\n",
      "Processed frame 2 in 1.115 seconds\n",
      "Processed frame 3 in 1.236 seconds\n",
      "Processed frame 4 in 1.172 seconds\n",
      "Processed frame 5 in 0.984 seconds\n",
      "Processed frame 6 in 1.003 seconds\n",
      "1/1 [==============================] - 0s 61ms/step\n",
      "Processed frame 7 in 1.193 seconds\n"
     ]
    },
    {
     "ename": "KeyboardInterrupt",
     "evalue": "",
     "output_type": "error",
     "traceback": [
      "\u001b[1;31m---------------------------------------------------------------------------\u001b[0m",
      "\u001b[1;31mKeyboardInterrupt\u001b[0m                         Traceback (most recent call last)",
      "Cell \u001b[1;32mIn[21], line 23\u001b[0m\n\u001b[0;32m     20\u001b[0m     \u001b[38;5;28;01mbreak\u001b[39;00m\n\u001b[0;32m     22\u001b[0m frame_start_time \u001b[38;5;241m=\u001b[39m time\u001b[38;5;241m.\u001b[39mtime()\n\u001b[1;32m---> 23\u001b[0m detections \u001b[38;5;241m=\u001b[39m \u001b[43mrun_inference_on_image\u001b[49m\u001b[43m(\u001b[49m\u001b[43mframe\u001b[49m\u001b[43m)\u001b[49m\n\u001b[0;32m     25\u001b[0m boxes \u001b[38;5;241m=\u001b[39m detections[\u001b[38;5;124m'\u001b[39m\u001b[38;5;124mdetection_boxes\u001b[39m\u001b[38;5;124m'\u001b[39m]\u001b[38;5;241m.\u001b[39mnumpy()[\u001b[38;5;241m0\u001b[39m]\n\u001b[0;32m     26\u001b[0m scores \u001b[38;5;241m=\u001b[39m detections[\u001b[38;5;124m'\u001b[39m\u001b[38;5;124mdetection_scores\u001b[39m\u001b[38;5;124m'\u001b[39m]\u001b[38;5;241m.\u001b[39mnumpy()[\u001b[38;5;241m0\u001b[39m]\n",
      "Cell \u001b[1;32mIn[20], line 5\u001b[0m, in \u001b[0;36mrun_inference_on_image\u001b[1;34m(image)\u001b[0m\n\u001b[0;32m      3\u001b[0m input_tensor \u001b[38;5;241m=\u001b[39m tf\u001b[38;5;241m.\u001b[39mconvert_to_tensor(image_np_rgb)\n\u001b[0;32m      4\u001b[0m input_tensor \u001b[38;5;241m=\u001b[39m input_tensor[tf\u001b[38;5;241m.\u001b[39mnewaxis, \u001b[38;5;241m.\u001b[39m\u001b[38;5;241m.\u001b[39m\u001b[38;5;241m.\u001b[39m]\n\u001b[1;32m----> 5\u001b[0m detections \u001b[38;5;241m=\u001b[39m \u001b[43mdetect_fn\u001b[49m\u001b[43m(\u001b[49m\u001b[43minput_tensor\u001b[49m\u001b[43m)\u001b[49m\n\u001b[0;32m      6\u001b[0m \u001b[38;5;28;01mreturn\u001b[39;00m detections\n",
      "File \u001b[1;32m~\\AppData\\Roaming\\Python\\Python310\\site-packages\\tensorflow\\python\\saved_model\\load.py:704\u001b[0m, in \u001b[0;36m_call_attribute\u001b[1;34m(instance, *args, **kwargs)\u001b[0m\n\u001b[0;32m    703\u001b[0m \u001b[38;5;28;01mdef\u001b[39;00m\u001b[38;5;250m \u001b[39m\u001b[38;5;21m_call_attribute\u001b[39m(instance, \u001b[38;5;241m*\u001b[39margs, \u001b[38;5;241m*\u001b[39m\u001b[38;5;241m*\u001b[39mkwargs):\n\u001b[1;32m--> 704\u001b[0m   \u001b[38;5;28;01mreturn\u001b[39;00m instance\u001b[38;5;241m.\u001b[39m\u001b[38;5;21m__call__\u001b[39m(\u001b[38;5;241m*\u001b[39margs, \u001b[38;5;241m*\u001b[39m\u001b[38;5;241m*\u001b[39mkwargs)\n",
      "File \u001b[1;32m~\\AppData\\Roaming\\Python\\Python310\\site-packages\\tensorflow\\python\\util\\traceback_utils.py:150\u001b[0m, in \u001b[0;36mfilter_traceback.<locals>.error_handler\u001b[1;34m(*args, **kwargs)\u001b[0m\n\u001b[0;32m    148\u001b[0m filtered_tb \u001b[38;5;241m=\u001b[39m \u001b[38;5;28;01mNone\u001b[39;00m\n\u001b[0;32m    149\u001b[0m \u001b[38;5;28;01mtry\u001b[39;00m:\n\u001b[1;32m--> 150\u001b[0m   \u001b[38;5;28;01mreturn\u001b[39;00m fn(\u001b[38;5;241m*\u001b[39margs, \u001b[38;5;241m*\u001b[39m\u001b[38;5;241m*\u001b[39mkwargs)\n\u001b[0;32m    151\u001b[0m \u001b[38;5;28;01mexcept\u001b[39;00m \u001b[38;5;167;01mException\u001b[39;00m \u001b[38;5;28;01mas\u001b[39;00m e:\n\u001b[0;32m    152\u001b[0m   filtered_tb \u001b[38;5;241m=\u001b[39m _process_traceback_frames(e\u001b[38;5;241m.\u001b[39m__traceback__)\n",
      "File \u001b[1;32m~\\AppData\\Roaming\\Python\\Python310\\site-packages\\tensorflow\\python\\eager\\def_function.py:915\u001b[0m, in \u001b[0;36mFunction.__call__\u001b[1;34m(self, *args, **kwds)\u001b[0m\n\u001b[0;32m    912\u001b[0m compiler \u001b[38;5;241m=\u001b[39m \u001b[38;5;124m\"\u001b[39m\u001b[38;5;124mxla\u001b[39m\u001b[38;5;124m\"\u001b[39m \u001b[38;5;28;01mif\u001b[39;00m \u001b[38;5;28mself\u001b[39m\u001b[38;5;241m.\u001b[39m_jit_compile \u001b[38;5;28;01melse\u001b[39;00m \u001b[38;5;124m\"\u001b[39m\u001b[38;5;124mnonXla\u001b[39m\u001b[38;5;124m\"\u001b[39m\n\u001b[0;32m    914\u001b[0m \u001b[38;5;28;01mwith\u001b[39;00m OptionalXlaContext(\u001b[38;5;28mself\u001b[39m\u001b[38;5;241m.\u001b[39m_jit_compile):\n\u001b[1;32m--> 915\u001b[0m   result \u001b[38;5;241m=\u001b[39m \u001b[38;5;28mself\u001b[39m\u001b[38;5;241m.\u001b[39m_call(\u001b[38;5;241m*\u001b[39margs, \u001b[38;5;241m*\u001b[39m\u001b[38;5;241m*\u001b[39mkwds)\n\u001b[0;32m    917\u001b[0m new_tracing_count \u001b[38;5;241m=\u001b[39m \u001b[38;5;28mself\u001b[39m\u001b[38;5;241m.\u001b[39mexperimental_get_tracing_count()\n\u001b[0;32m    918\u001b[0m without_tracing \u001b[38;5;241m=\u001b[39m (tracing_count \u001b[38;5;241m==\u001b[39m new_tracing_count)\n",
      "File \u001b[1;32m~\\AppData\\Roaming\\Python\\Python310\\site-packages\\tensorflow\\python\\eager\\def_function.py:954\u001b[0m, in \u001b[0;36mFunction._call\u001b[1;34m(self, *args, **kwds)\u001b[0m\n\u001b[0;32m    951\u001b[0m \u001b[38;5;28mself\u001b[39m\u001b[38;5;241m.\u001b[39m_lock\u001b[38;5;241m.\u001b[39mrelease()\n\u001b[0;32m    952\u001b[0m \u001b[38;5;66;03m# In this case we have not created variables on the first call. So we can\u001b[39;00m\n\u001b[0;32m    953\u001b[0m \u001b[38;5;66;03m# run the first trace but we should fail if variables are created.\u001b[39;00m\n\u001b[1;32m--> 954\u001b[0m results \u001b[38;5;241m=\u001b[39m \u001b[38;5;28mself\u001b[39m\u001b[38;5;241m.\u001b[39m_stateful_fn(\u001b[38;5;241m*\u001b[39margs, \u001b[38;5;241m*\u001b[39m\u001b[38;5;241m*\u001b[39mkwds)\n\u001b[0;32m    955\u001b[0m \u001b[38;5;28;01mif\u001b[39;00m \u001b[38;5;28mself\u001b[39m\u001b[38;5;241m.\u001b[39m_created_variables \u001b[38;5;129;01mand\u001b[39;00m \u001b[38;5;129;01mnot\u001b[39;00m ALLOW_DYNAMIC_VARIABLE_CREATION:\n\u001b[0;32m    956\u001b[0m   \u001b[38;5;28;01mraise\u001b[39;00m \u001b[38;5;167;01mValueError\u001b[39;00m(\u001b[38;5;124m\"\u001b[39m\u001b[38;5;124mCreating variables on a non-first call to a function\u001b[39m\u001b[38;5;124m\"\u001b[39m\n\u001b[0;32m    957\u001b[0m                    \u001b[38;5;124m\"\u001b[39m\u001b[38;5;124m decorated with tf.function.\u001b[39m\u001b[38;5;124m\"\u001b[39m)\n",
      "File \u001b[1;32m~\\AppData\\Roaming\\Python\\Python310\\site-packages\\tensorflow\\python\\eager\\function.py:2496\u001b[0m, in \u001b[0;36mFunction.__call__\u001b[1;34m(self, *args, **kwargs)\u001b[0m\n\u001b[0;32m   2493\u001b[0m \u001b[38;5;28;01mwith\u001b[39;00m \u001b[38;5;28mself\u001b[39m\u001b[38;5;241m.\u001b[39m_lock:\n\u001b[0;32m   2494\u001b[0m   (graph_function,\n\u001b[0;32m   2495\u001b[0m    filtered_flat_args) \u001b[38;5;241m=\u001b[39m \u001b[38;5;28mself\u001b[39m\u001b[38;5;241m.\u001b[39m_maybe_define_function(args, kwargs)\n\u001b[1;32m-> 2496\u001b[0m \u001b[38;5;28;01mreturn\u001b[39;00m \u001b[43mgraph_function\u001b[49m\u001b[38;5;241;43m.\u001b[39;49m\u001b[43m_call_flat\u001b[49m\u001b[43m(\u001b[49m\n\u001b[0;32m   2497\u001b[0m \u001b[43m    \u001b[49m\u001b[43mfiltered_flat_args\u001b[49m\u001b[43m,\u001b[49m\u001b[43m \u001b[49m\u001b[43mcaptured_inputs\u001b[49m\u001b[38;5;241;43m=\u001b[39;49m\u001b[43mgraph_function\u001b[49m\u001b[38;5;241;43m.\u001b[39;49m\u001b[43mcaptured_inputs\u001b[49m\u001b[43m)\u001b[49m\n",
      "File \u001b[1;32m~\\AppData\\Roaming\\Python\\Python310\\site-packages\\tensorflow\\python\\eager\\function.py:1862\u001b[0m, in \u001b[0;36mConcreteFunction._call_flat\u001b[1;34m(self, args, captured_inputs, cancellation_manager)\u001b[0m\n\u001b[0;32m   1858\u001b[0m possible_gradient_type \u001b[38;5;241m=\u001b[39m gradients_util\u001b[38;5;241m.\u001b[39mPossibleTapeGradientTypes(args)\n\u001b[0;32m   1859\u001b[0m \u001b[38;5;28;01mif\u001b[39;00m (possible_gradient_type \u001b[38;5;241m==\u001b[39m gradients_util\u001b[38;5;241m.\u001b[39mPOSSIBLE_GRADIENT_TYPES_NONE\n\u001b[0;32m   1860\u001b[0m     \u001b[38;5;129;01mand\u001b[39;00m executing_eagerly):\n\u001b[0;32m   1861\u001b[0m   \u001b[38;5;66;03m# No tape is watching; skip to running the function.\u001b[39;00m\n\u001b[1;32m-> 1862\u001b[0m   \u001b[38;5;28;01mreturn\u001b[39;00m \u001b[38;5;28mself\u001b[39m\u001b[38;5;241m.\u001b[39m_build_call_outputs(\u001b[38;5;28;43mself\u001b[39;49m\u001b[38;5;241;43m.\u001b[39;49m\u001b[43m_inference_function\u001b[49m\u001b[38;5;241;43m.\u001b[39;49m\u001b[43mcall\u001b[49m\u001b[43m(\u001b[49m\n\u001b[0;32m   1863\u001b[0m \u001b[43m      \u001b[49m\u001b[43mctx\u001b[49m\u001b[43m,\u001b[49m\u001b[43m \u001b[49m\u001b[43margs\u001b[49m\u001b[43m,\u001b[49m\u001b[43m \u001b[49m\u001b[43mcancellation_manager\u001b[49m\u001b[38;5;241;43m=\u001b[39;49m\u001b[43mcancellation_manager\u001b[49m\u001b[43m)\u001b[49m)\n\u001b[0;32m   1864\u001b[0m forward_backward \u001b[38;5;241m=\u001b[39m \u001b[38;5;28mself\u001b[39m\u001b[38;5;241m.\u001b[39m_select_forward_and_backward_functions(\n\u001b[0;32m   1865\u001b[0m     args,\n\u001b[0;32m   1866\u001b[0m     possible_gradient_type,\n\u001b[0;32m   1867\u001b[0m     executing_eagerly)\n\u001b[0;32m   1868\u001b[0m forward_function, args_with_tangents \u001b[38;5;241m=\u001b[39m forward_backward\u001b[38;5;241m.\u001b[39mforward()\n",
      "File \u001b[1;32m~\\AppData\\Roaming\\Python\\Python310\\site-packages\\tensorflow\\python\\eager\\function.py:499\u001b[0m, in \u001b[0;36m_EagerDefinedFunction.call\u001b[1;34m(self, ctx, args, cancellation_manager)\u001b[0m\n\u001b[0;32m    497\u001b[0m \u001b[38;5;28;01mwith\u001b[39;00m _InterpolateFunctionError(\u001b[38;5;28mself\u001b[39m):\n\u001b[0;32m    498\u001b[0m   \u001b[38;5;28;01mif\u001b[39;00m cancellation_manager \u001b[38;5;129;01mis\u001b[39;00m \u001b[38;5;28;01mNone\u001b[39;00m:\n\u001b[1;32m--> 499\u001b[0m     outputs \u001b[38;5;241m=\u001b[39m \u001b[43mexecute\u001b[49m\u001b[38;5;241;43m.\u001b[39;49m\u001b[43mexecute\u001b[49m\u001b[43m(\u001b[49m\n\u001b[0;32m    500\u001b[0m \u001b[43m        \u001b[49m\u001b[38;5;28;43mstr\u001b[39;49m\u001b[43m(\u001b[49m\u001b[38;5;28;43mself\u001b[39;49m\u001b[38;5;241;43m.\u001b[39;49m\u001b[43msignature\u001b[49m\u001b[38;5;241;43m.\u001b[39;49m\u001b[43mname\u001b[49m\u001b[43m)\u001b[49m\u001b[43m,\u001b[49m\n\u001b[0;32m    501\u001b[0m \u001b[43m        \u001b[49m\u001b[43mnum_outputs\u001b[49m\u001b[38;5;241;43m=\u001b[39;49m\u001b[38;5;28;43mself\u001b[39;49m\u001b[38;5;241;43m.\u001b[39;49m\u001b[43m_num_outputs\u001b[49m\u001b[43m,\u001b[49m\n\u001b[0;32m    502\u001b[0m \u001b[43m        \u001b[49m\u001b[43minputs\u001b[49m\u001b[38;5;241;43m=\u001b[39;49m\u001b[43margs\u001b[49m\u001b[43m,\u001b[49m\n\u001b[0;32m    503\u001b[0m \u001b[43m        \u001b[49m\u001b[43mattrs\u001b[49m\u001b[38;5;241;43m=\u001b[39;49m\u001b[43mattrs\u001b[49m\u001b[43m,\u001b[49m\n\u001b[0;32m    504\u001b[0m \u001b[43m        \u001b[49m\u001b[43mctx\u001b[49m\u001b[38;5;241;43m=\u001b[39;49m\u001b[43mctx\u001b[49m\u001b[43m)\u001b[49m\n\u001b[0;32m    505\u001b[0m   \u001b[38;5;28;01melse\u001b[39;00m:\n\u001b[0;32m    506\u001b[0m     outputs \u001b[38;5;241m=\u001b[39m execute\u001b[38;5;241m.\u001b[39mexecute_with_cancellation(\n\u001b[0;32m    507\u001b[0m         \u001b[38;5;28mstr\u001b[39m(\u001b[38;5;28mself\u001b[39m\u001b[38;5;241m.\u001b[39msignature\u001b[38;5;241m.\u001b[39mname),\n\u001b[0;32m    508\u001b[0m         num_outputs\u001b[38;5;241m=\u001b[39m\u001b[38;5;28mself\u001b[39m\u001b[38;5;241m.\u001b[39m_num_outputs,\n\u001b[1;32m   (...)\u001b[0m\n\u001b[0;32m    511\u001b[0m         ctx\u001b[38;5;241m=\u001b[39mctx,\n\u001b[0;32m    512\u001b[0m         cancellation_manager\u001b[38;5;241m=\u001b[39mcancellation_manager)\n",
      "File \u001b[1;32m~\\AppData\\Roaming\\Python\\Python310\\site-packages\\tensorflow\\python\\eager\\execute.py:54\u001b[0m, in \u001b[0;36mquick_execute\u001b[1;34m(op_name, num_outputs, inputs, attrs, ctx, name)\u001b[0m\n\u001b[0;32m     52\u001b[0m \u001b[38;5;28;01mtry\u001b[39;00m:\n\u001b[0;32m     53\u001b[0m   ctx\u001b[38;5;241m.\u001b[39mensure_initialized()\n\u001b[1;32m---> 54\u001b[0m   tensors \u001b[38;5;241m=\u001b[39m \u001b[43mpywrap_tfe\u001b[49m\u001b[38;5;241;43m.\u001b[39;49m\u001b[43mTFE_Py_Execute\u001b[49m\u001b[43m(\u001b[49m\u001b[43mctx\u001b[49m\u001b[38;5;241;43m.\u001b[39;49m\u001b[43m_handle\u001b[49m\u001b[43m,\u001b[49m\u001b[43m \u001b[49m\u001b[43mdevice_name\u001b[49m\u001b[43m,\u001b[49m\u001b[43m \u001b[49m\u001b[43mop_name\u001b[49m\u001b[43m,\u001b[49m\n\u001b[0;32m     55\u001b[0m \u001b[43m                                      \u001b[49m\u001b[43minputs\u001b[49m\u001b[43m,\u001b[49m\u001b[43m \u001b[49m\u001b[43mattrs\u001b[49m\u001b[43m,\u001b[49m\u001b[43m \u001b[49m\u001b[43mnum_outputs\u001b[49m\u001b[43m)\u001b[49m\n\u001b[0;32m     56\u001b[0m \u001b[38;5;28;01mexcept\u001b[39;00m core\u001b[38;5;241m.\u001b[39m_NotOkStatusException \u001b[38;5;28;01mas\u001b[39;00m e:\n\u001b[0;32m     57\u001b[0m   \u001b[38;5;28;01mif\u001b[39;00m name \u001b[38;5;129;01mis\u001b[39;00m \u001b[38;5;129;01mnot\u001b[39;00m \u001b[38;5;28;01mNone\u001b[39;00m:\n",
      "\u001b[1;31mKeyboardInterrupt\u001b[0m: "
     ]
    }
   ],
   "source": [
    "cap = cv2.VideoCapture(input_video_path)\n",
    "if not cap.isOpened():\n",
    "    raise IOError(f\"Cannot open video file: {input_video_path}\")\n",
    "\n",
    "# Get video properties\n",
    "width = int(cap.get(cv2.CAP_PROP_FRAME_WIDTH))\n",
    "height = int(cap.get(cv2.CAP_PROP_FRAME_HEIGHT))\n",
    "fps = cap.get(cv2.CAP_PROP_FPS)\n",
    "\n",
    "# Video writer setup\n",
    "fourcc = cv2.VideoWriter_fourcc(*'mp4v')\n",
    "video_writer = cv2.VideoWriter(output_video_path, fourcc, fps, (width, height))\n",
    "\n",
    "total_start_time = time.time()\n",
    "frame_count = 0\n",
    "\n",
    "while True:\n",
    "    ret, frame = cap.read()\n",
    "    if not ret:\n",
    "        break\n",
    "\n",
    "    frame_start_time = time.time()\n",
    "    detections = run_inference_on_image(frame)\n",
    "\n",
    "    boxes = detections['detection_boxes'].numpy()[0]\n",
    "    scores = detections['detection_scores'].numpy()[0]\n",
    "\n",
    "    for box, score in zip(boxes, scores):\n",
    "        if score < detection_score_threshold:\n",
    "            continue\n",
    "\n",
    "        ymin, xmin, ymax, xmax = box\n",
    "        left = int(xmin * width)\n",
    "        right = int(xmax * width)\n",
    "        top = int(ymin * height)\n",
    "        bottom = int(ymax * height)\n",
    "\n",
    "        cropped_img = frame[top:bottom, left:right]\n",
    "        if cropped_img.size == 0:\n",
    "            continue\n",
    "\n",
    "        input_for_cls = preprocess_for_classifier(cropped_img)\n",
    "        preds = classifier.predict(input_for_cls)\n",
    "        class_id = np.argmax(preds)\n",
    "        cls_score = preds[0][class_id]\n",
    "\n",
    "        if cls_score < classification_score_threshold:\n",
    "            label_text = \"Unknown\"\n",
    "        else:\n",
    "            label_text = f\"{classifier_classes[class_id]} ({cls_score:.2f})\"\n",
    "\n",
    "        cv2.rectangle(frame, (left, top), (right, bottom), (0, 255, 0), 2)\n",
    "        cv2.putText(frame, label_text, (left, top - 10),\n",
    "                    cv2.FONT_HERSHEY_SIMPLEX, 0.5, (0, 0, 255), 2)\n",
    "\n",
    "    video_writer.write(frame)\n",
    "    frame_end_time = time.time()\n",
    "    print(f\"Processed frame {frame_count + 1} in {frame_end_time - frame_start_time:.3f} seconds\")\n",
    "    frame_count += 1\n",
    "\n",
    "# Release resources\n",
    "cap.release()\n",
    "video_writer.release()\n",
    "\n",
    "total_end_time = time.time()\n",
    "total_duration = total_end_time - total_start_time\n",
    "print(f\"\\nProcessed {frame_count} frames in {total_duration:.2f} seconds\")\n",
    "print(f\"Average time per frame: {total_duration / frame_count:.2f} seconds\")\n",
    "print(f\"Output video saved to: {output_video_path}\")"
   ]
  },
  {
   "cell_type": "code",
   "execution_count": null,
   "id": "0313f644-4466-4070-8976-2d6808b0399c",
   "metadata": {},
   "outputs": [],
   "source": [
    "#loading model for classifier\n",
    "from tensorflow.keras.models import load_model, Model\n",
    "from tensorflow.keras.layers import Dense\n",
    "\n",
    "base_model = load_model(\"my_model.h5\")\n",
    "\n",
    "# Remove the last layer\n",
    "x = base_model.layers[-2].output\n",
    "\n",
    "# Add new output layer with more classes (e.g., 80 instead of 43)\n",
    "num_new_classes = 80\n",
    "new_output = Dense(num_new_classes, activation='softmax')(x)\n",
    "\n",
    "# Create new model\n",
    "new_model = Model(inputs=base_model.input, outputs=new_output)\n"
   ]
  },
  {
   "cell_type": "code",
   "execution_count": null,
   "id": "2e58960d-85ce-438e-9d65-a8b4e0f8da7e",
   "metadata": {},
   "outputs": [],
   "source": [
    "#retraining only the new model\n",
    "for layer in new_model.layers[:-1]:\n",
    "    layer.trainable = False\n",
    "\n",
    "new_model.compile(optimizer='adam', loss='categorical_crossentropy', metrics=['accuracy'])\n",
    "\n",
    "# Use your new training data with 80 classes\n",
    "new_model.fit(x_train, y_train, epochs=5, validation_data=(x_val, y_val))\n"
   ]
  },
  {
   "cell_type": "code",
   "execution_count": 25,
   "id": "f177f94b-af72-400a-a5c4-0f5696faad16",
   "metadata": {},
   "outputs": [
    {
     "name": "stdout",
     "output_type": "stream",
     "text": [
      "Processed and saved: IMG-20250620-WA0001.jpg\n",
      "Processed and saved: IMG-20250620-WA0002.jpg\n",
      "Processed and saved: IMG-20250620-WA0003.jpg\n",
      "1/1 [==============================] - 0s 34ms/step\n",
      "Processed and saved: IMG-20250620-WA0004.jpg\n",
      "Processed and saved: IMG-20250620-WA0005.jpg\n",
      "1/1 [==============================] - 0s 47ms/step\n",
      "Processed and saved: IMG-20250620-WA0006.jpg\n",
      "Processed and saved: IMG-20250620-WA0007.jpg\n",
      "1/1 [==============================] - 0s 57ms/step\n",
      "Processed and saved: IMG-20250620-WA0008.jpg\n",
      "1/1 [==============================] - 0s 61ms/step\n",
      "Processed and saved: IMG-20250620-WA0009.jpg\n",
      "Processed and saved: IMG-20250620-WA0010.jpg\n",
      "1/1 [==============================] - 0s 47ms/step\n",
      "Processed and saved: IMG-20250620-WA0011.jpg\n",
      "Processed and saved: IMG-20250620-WA0012.jpg\n",
      "Processed and saved: IMG-20250620-WA0013.jpg\n",
      "1/1 [==============================] - 0s 62ms/step\n",
      "Processed and saved: IMG-20250620-WA0014.jpg\n",
      "Processed and saved: IMG-20250620-WA0015.jpg\n",
      "Processed and saved: IMG-20250620-WA0016.jpg\n",
      "Processed and saved: IMG-20250620-WA0017.jpg\n",
      "Processed and saved: IMG-20250620-WA0018.jpg\n",
      "1/1 [==============================] - 0s 46ms/step\n",
      "Processed and saved: IMG-20250620-WA0019.jpg\n",
      "Processed and saved: IMG-20250620-WA0020.jpg\n",
      "1/1 [==============================] - 0s 31ms/step\n",
      "Processed and saved: IMG-20250620-WA0021.jpg\n",
      "Processed and saved: IMG-20250620-WA0022.jpg\n",
      "Processed and saved: IMG-20250620-WA0023.jpg\n",
      "1/1 [==============================] - 0s 64ms/step\n",
      "Processed and saved: IMG-20250620-WA0024.jpg\n",
      "Processed and saved: IMG-20250620-WA0025.jpg\n",
      "Processed and saved: IMG-20250620-WA0026.jpg\n",
      "Processed and saved: IMG-20250620-WA0027.jpg\n",
      "1/1 [==============================] - 0s 47ms/step\n",
      "Processed and saved: IMG-20250620-WA0028.jpg\n",
      "Processed and saved: IMG-20250620-WA0029.jpg\n",
      "Processed and saved: IMG-20250620-WA0030.jpg\n",
      "Processed and saved: IMG-20250620-WA0031.jpg\n",
      "Processed and saved: IMG-20250620-WA0032.jpg\n",
      "Processed and saved: IMG-20250620-WA0033.jpg\n",
      "Processed and saved: IMG-20250620-WA0034.jpg\n",
      "Processed and saved: IMG-20250620-WA0035.jpg\n",
      "Processed and saved: IMG-20250620-WA0036.jpg\n",
      "Processed and saved: IMG-20250620-WA0037.jpg\n",
      "Processed and saved: IMG-20250620-WA0038.jpg\n",
      "Processed and saved: IMG-20250620-WA0039.jpg\n",
      "Processed and saved: IMG-20250620-WA0040.jpg\n",
      "Processed and saved: IMG-20250620-WA0041.jpg\n",
      "Processed and saved: IMG-20250620-WA0042.jpg\n",
      "Processed and saved: IMG-20250620-WA0043.jpg\n",
      "Processed and saved: IMG-20250620-WA0044.jpg\n",
      "1/1 [==============================] - 0s 47ms/step\n",
      "Processed and saved: IMG-20250620-WA0045.jpg\n",
      "Processed and saved: IMG-20250620-WA0046.jpg\n",
      "Processed and saved: IMG-20250620-WA0047.jpg\n",
      "Processed and saved: IMG-20250620-WA0048.jpg\n",
      "Processed and saved: IMG-20250620-WA0049.jpg\n",
      "Processed and saved: IMG-20250620-WA0050.jpg\n",
      "Processed and saved: IMG-20250620-WA0051.jpg\n",
      "Processed and saved: IMG-20250620-WA0052.jpg\n",
      "Processed and saved: IMG-20250620-WA0053.jpg\n",
      "Processed and saved: IMG-20250620-WA0054.jpg\n",
      "Processed and saved: IMG-20250620-WA0055.jpg\n",
      "Processed and saved: IMG-20250620-WA0056.jpg\n",
      "1/1 [==============================] - 0s 63ms/step\n",
      "Processed and saved: IMG-20250620-WA0057.jpg\n",
      "1/1 [==============================] - 0s 63ms/step\n",
      "Processed and saved: IMG-20250620-WA0058.jpg\n",
      "1/1 [==============================] - 0s 47ms/step\n",
      "Processed and saved: IMG-20250620-WA0059.jpg\n",
      "Processed and saved: IMG-20250620-WA0060.jpg\n",
      "Processed and saved: IMG-20250620-WA0061.jpg\n",
      "1/1 [==============================] - 0s 62ms/step\n",
      "Processed and saved: IMG-20250620-WA0062.jpg\n",
      "Processed and saved: IMG-20250620-WA0063.jpg\n",
      "Processed and saved: WhatsApp Image 2025-06-17 at 11.57.33_cf604d30.jpg\n",
      "Processed and saved: WhatsApp Image 2025-06-17 at 11.58.10_31e2ae23.jpg\n",
      "\n",
      "Processed 65 images in 69.60 seconds.\n"
     ]
    }
   ],
   "source": [
    "import os\n",
    "import cv2\n",
    "import time\n",
    "import numpy as np\n",
    "import tensorflow as tf\n",
    "\n",
    "# Define paths\n",
    "input_folder = r\"C:\\PROJECTS\\TrafficSignIdentification\\drivingdata\\New folder\"\n",
    "output_folder = r\"C:\\PROJECTS\\TrafficSignIdentification\\output\\imagesthreshold=0.2\"\n",
    "os.makedirs(output_folder, exist_ok=True)\n",
    "\n",
    "# Detection threshold values\n",
    "detection_score_threshold = 0.5\n",
    "classification_score_threshold = 0.5\n",
    "\n",
    "def preprocess_for_classifier(cropped_img):\n",
    "    gray = cv2.cvtColor(cropped_img, cv2.COLOR_BGR2GRAY)\n",
    "    img_resized = cv2.resize(gray, (32, 32))\n",
    "    img_normalized = img_resized / 255.0\n",
    "    return np.expand_dims(img_normalized[..., np.newaxis], axis=0)\n",
    "\n",
    "def run_inference_on_image(image):\n",
    "    image_np_rgb = cv2.cvtColor(image, cv2.COLOR_BGR2RGB)\n",
    "    input_tensor = tf.convert_to_tensor(image_np_rgb)[tf.newaxis, ...]\n",
    "    detections = detect_fn(input_tensor)\n",
    "    return detections\n",
    "\n",
    "# Process each image in the input folder\n",
    "image_filenames = [f for f in os.listdir(input_folder) if f.lower().endswith(('.jpg', '.jpeg', '.png'))]\n",
    "\n",
    "total_start_time = time.time()\n",
    "processed_count = 0\n",
    "\n",
    "for filename in image_filenames:\n",
    "    image_path = os.path.join(input_folder, filename)\n",
    "    frame = cv2.imread(image_path)\n",
    "\n",
    "    detections = run_inference_on_image(frame)\n",
    "    boxes = detections['detection_boxes'].numpy()[0]\n",
    "    scores = detections['detection_scores'].numpy()[0]\n",
    "\n",
    "    for box, score in zip(boxes, scores):\n",
    "        if score < detection_score_threshold:\n",
    "            continue\n",
    "\n",
    "        ymin, xmin, ymax, xmax = box\n",
    "        h, w, _ = frame.shape\n",
    "        left = int(xmin * w)\n",
    "        right = int(xmax * w)\n",
    "        top = int(ymin * h)\n",
    "        bottom = int(ymax * h)\n",
    "\n",
    "        cropped_img = frame[top:bottom, left:right]\n",
    "        if cropped_img.size == 0:\n",
    "            continue\n",
    "\n",
    "        input_for_cls = preprocess_for_classifier(cropped_img)\n",
    "        preds = classifier.predict(input_for_cls)\n",
    "        class_id = np.argmax(preds)\n",
    "        cls_score = preds[0][class_id]\n",
    "\n",
    "        if cls_score < classification_score_threshold:\n",
    "            label_text = \"Unknown\"\n",
    "        else:\n",
    "            label_text = f\"{classifier_classes[class_id]} ({cls_score:.2f})\"\n",
    "\n",
    "        cv2.rectangle(frame, (left, top), (right, bottom), (0, 255, 0), 2)\n",
    "        cv2.putText(frame, label_text, (left, top - 10),\n",
    "                    cv2.FONT_HERSHEY_SIMPLEX, 0.5, (0, 0, 255), 2)\n",
    "\n",
    "    output_path = os.path.join(output_folder, filename)\n",
    "    cv2.imwrite(output_path, frame)\n",
    "    print(f\"Processed and saved: {filename}\")\n",
    "    processed_count += 1\n",
    "\n",
    "total_end_time = time.time()\n",
    "print(f\"\\nProcessed {processed_count} images in {total_end_time - total_start_time:.2f} seconds.\")\n"
   ]
  },
  {
   "cell_type": "code",
   "execution_count": null,
   "id": "3e648176-1967-44ec-98f9-25df639b44a9",
   "metadata": {},
   "outputs": [],
   "source": []
  },
  {
   "cell_type": "code",
   "execution_count": null,
   "id": "7ff78ded-4028-4a4a-812f-c9ec295b88bf",
   "metadata": {},
   "outputs": [],
   "source": []
  }
 ],
 "metadata": {
  "kernelspec": {
   "display_name": "Python 3.10 (TensorFlow)",
   "language": "python",
   "name": "py310"
  },
  "language_info": {
   "codemirror_mode": {
    "name": "ipython",
    "version": 3
   },
   "file_extension": ".py",
   "mimetype": "text/x-python",
   "name": "python",
   "nbconvert_exporter": "python",
   "pygments_lexer": "ipython3",
   "version": "3.10.11"
  }
 },
 "nbformat": 4,
 "nbformat_minor": 5
}
